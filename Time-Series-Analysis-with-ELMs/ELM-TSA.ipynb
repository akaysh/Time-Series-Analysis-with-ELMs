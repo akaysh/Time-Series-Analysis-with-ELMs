{
 "cells": [
  {
   "cell_type": "code",
   "execution_count": 1,
   "metadata": {
    "collapsed": false
   },
   "outputs": [],
   "source": [
    "from time import time\n",
    "from sklearn.cluster import k_means\n",
    "from elm import ELMClassifier, ELMRegressor, GenELMClassifier, GenELMRegressor\n",
    "from random_layer import RandomLayer, MLPRandomLayer, RBFRandomLayer, GRBFRandomLayer\n",
    "from sklearn.neighbors import KDTree\n",
    "from sklearn.pipeline import Pipeline\n",
    "from sklearn.linear_model import Ridge"
   ]
  },
  {
   "cell_type": "code",
   "execution_count": 1,
   "metadata": {
    "collapsed": false
   },
   "outputs": [
    {
     "data": {
      "text/plain": [
       "array([[ 7],\n",
       "       [ 0],\n",
       "       [15],\n",
       "       ..., \n",
       "       [17],\n",
       "       [20],\n",
       "       [30]])"
      ]
     },
     "execution_count": 1,
     "metadata": {},
     "output_type": "execute_result"
    }
   ],
   "source": [
    "import pandas as pd\n",
    "import numpy as np\n",
    "#dataset link: http://climate.weather.gc.ca/\n",
    "data = pd.read_csv('winter_processed.csv')\n",
    "data = np.array(data)\n",
    "data"
   ]
  },
  {
   "cell_type": "code",
   "execution_count": 3,
   "metadata": {
    "collapsed": false
   },
   "outputs": [
    {
     "name": "stderr",
     "output_type": "stream",
     "text": [
      "/home/akshay/anaconda3/lib/python3.5/site-packages/sklearn/utils/validation.py:420: DataConversionWarning: Data with input dtype int64 was converted to float64 by StandardScaler.\n",
      "  warnings.warn(msg, DataConversionWarning)\n"
     ]
    }
   ],
   "source": [
    "#This is to convert Time Series to 0-mean and unit-std deviation series.\n",
    "from sklearn import preprocessing\n",
    "scaler = preprocessing.StandardScaler().fit(data)"
   ]
  },
  {
   "cell_type": "code",
   "execution_count": 4,
   "metadata": {
    "collapsed": false
   },
   "outputs": [
    {
     "name": "stderr",
     "output_type": "stream",
     "text": [
      "/home/akshay/anaconda3/lib/python3.5/site-packages/sklearn/utils/validation.py:420: DataConversionWarning: Data with input dtype int64 was converted to float64 by StandardScaler.\n",
      "  warnings.warn(msg, DataConversionWarning)\n"
     ]
    }
   ],
   "source": [
    "from sklearn.cross_validation import train_test_split\n",
    "\n",
    "scaler.mean_\n",
    "scaler.scale_\n",
    "data_scaled = scaler.transform(data)\n",
    "#splitting data into test and train parts\n",
    "d_train,d_test = train_test_split(data_scaled, test_size=0.2, random_state=42)"
   ]
  },
  {
   "cell_type": "code",
   "execution_count": 5,
   "metadata": {
    "collapsed": false
   },
   "outputs": [],
   "source": [
    "#memory order\n",
    "m = 16\n",
    "#auto corrected input vector for training (we are taking 16 lagged values as features for each data point)\n",
    "x_train = np.array([d_train[i][0] for i in range(m)])\n",
    "y_train = np.array(d_train[16][0])\n",
    "\n",
    "for i in range(1,1135):\n",
    "    l = np.array([d_train[j][0] for j in range(i,i+m)])\n",
    "    x_train = np.vstack([x_train,l])\n",
    "    y_train = np.vstack([y_train,d_train[i+m]])\n",
    "    \n",
    "#auto corrected input vector for test\n",
    "x_test = np.array([d_test[i][0] for i in range(m)])\n",
    "y_test = np.array(d_test[16][0])\n",
    "\n",
    "for i in range(1,266):\n",
    "    l = np.array([d_test[j][0] for j in range(i,i+m)])\n",
    "    x_test = np.vstack([x_test,l])\n",
    "    y_test = np.vstack([y_test,d_test[i+m]])"
   ]
  },
  {
   "cell_type": "code",
   "execution_count": null,
   "metadata": {
    "collapsed": false
   },
   "outputs": [],
   "source": []
  },
  {
   "cell_type": "code",
   "execution_count": 6,
   "metadata": {
    "collapsed": false
   },
   "outputs": [
    {
     "name": "stdout",
     "output_type": "stream",
     "text": [
      "Training Score:  0.405893546002 Testing Score:  0.802838717312\n"
     ]
    }
   ],
   "source": [
    "from sklearn import pipeline\n",
    "import matplotlib.pyplot as plt\n",
    "#parameters\n",
    "n_hidden = 500\n",
    "alpha = 0.7\n",
    "rbf_width = 0.1\n",
    "activation_func = 'sigmoid'\n",
    "regressor = None\n",
    "random_state = 0\n",
    "ridge_alpha = 0.001\n",
    "rl = RandomLayer( n_hidden = n_hidden, alpha = alpha, \n",
    "    rbf_width = rbf_width, activation_func = activation_func )\n",
    "\n",
    "ridge = Ridge( alpha = ridge_alpha )\n",
    "\n",
    "elmr = pipeline.Pipeline( [( 'rl', rl ), ( 'ridge', ridge )] )  \n",
    "\n",
    "elmr.fit( x_train, y_train )\n",
    "#p = elmr.predict( x_test )\n",
    "print (\"Training Score: \",elmr.score(x_train, y_train),\"Testing Score: \", -elmr.score(x_test, y_test))\n"
   ]
  },
  {
   "cell_type": "code",
   "execution_count": 7,
   "metadata": {
    "collapsed": true
   },
   "outputs": [],
   "source": [
    "err_train = elmr.predict(x_train) - y_train\n",
    "err_test = elmr.predict(x_test) - y_test"
   ]
  },
  {
   "cell_type": "code",
   "execution_count": 8,
   "metadata": {
    "collapsed": false
   },
   "outputs": [
    {
     "name": "stdout",
     "output_type": "stream",
     "text": [
      "(266, 150)\n"
     ]
    }
   ],
   "source": [
    "tree = KDTree(x_train,leaf_size=200)\n",
    "dist, ind = tree.query(x_test,k=150)\n",
    "print(ind.shape)"
   ]
  },
  {
   "cell_type": "code",
   "execution_count": 9,
   "metadata": {
    "collapsed": false
   },
   "outputs": [],
   "source": [
    "err_dict = np.zeros(shape=(len(x_test),150))\n",
    "j = 0\n",
    "for tst_pattern in (ind):\n",
    "    err_dict[j] = [err_train[i] for i in ind[j]]\n",
    "    j+=1"
   ]
  },
  {
   "cell_type": "code",
   "execution_count": 10,
   "metadata": {
    "collapsed": false
   },
   "outputs": [],
   "source": [
    "U = []\n",
    "L = []\n",
    "U = [y_test[i] + max(err_dict[i]) for i in range(len(err_dict))]\n",
    "L = [y_test[i] + min(err_dict[i]) for i in range(len(err_dict))]"
   ]
  },
  {
   "cell_type": "code",
   "execution_count": 11,
   "metadata": {
    "collapsed": false
   },
   "outputs": [
    {
     "data": {
      "text/plain": [
       "((266, 16), (266, 1))"
      ]
     },
     "execution_count": 11,
     "metadata": {},
     "output_type": "execute_result"
    }
   ],
   "source": [
    "x_test.shape, y_test.shape"
   ]
  },
  {
   "cell_type": "code",
   "execution_count": null,
   "metadata": {
    "collapsed": false
   },
   "outputs": [],
   "source": []
  },
  {
   "cell_type": "code",
   "execution_count": 12,
   "metadata": {
    "collapsed": false
   },
   "outputs": [],
   "source": [
    "count = 0\n",
    "i = 0\n",
    "for val in y_test:\n",
    "    if val >= L[i] and val <= U[i]:\n",
    "        count += 1\n",
    "    i+= 1\n",
    "picp = count/len(y_test)"
   ]
  },
  {
   "cell_type": "code",
   "execution_count": 13,
   "metadata": {
    "collapsed": false
   },
   "outputs": [],
   "source": [
    "y_min = np.amin(y_test)\n",
    "y_max = np.amax(y_test)\n",
    "S = 0\n",
    "\n",
    "for i in range(len(L)):\n",
    "    S+= (abs(U[i]-L[i]))\n",
    "\n",
    "S /= (y_max-y_min)"
   ]
  },
  {
   "cell_type": "code",
   "execution_count": 14,
   "metadata": {
    "collapsed": false
   },
   "outputs": [
    {
     "data": {
      "text/plain": [
       "array([ 1.01982448])"
      ]
     },
     "execution_count": 14,
     "metadata": {},
     "output_type": "execute_result"
    }
   ],
   "source": [
    "S /= len(y_test)\n",
    "S"
   ]
  },
  {
   "cell_type": "code",
   "execution_count": 15,
   "metadata": {
    "collapsed": false
   },
   "outputs": [
    {
     "name": "stdout",
     "output_type": "stream",
     "text": [
      "PICP (Probability Coverage) value:  1.0 NMPIW (Measure of PI widths) value:  [ 1.01982448]\n"
     ]
    }
   ],
   "source": [
    "print(\"PICP (Probability Coverage) value: \",picp,\"NMPIW (Measure of PI widths) value: \",S)"
   ]
  },
  {
   "cell_type": "code",
   "execution_count": 19,
   "metadata": {
    "collapsed": false
   },
   "outputs": [
    {
     "data": {
      "image/png": "[encoded data removed]",
      "text/plain": [
       "<matplotlib.figure.Figure at 0x7f1e7402ba58>"
      ]
     },
     "metadata": {},
     "output_type": "display_data"
    }
   ],
   "source": [
    "%matplotlib inline\n",
    "from matplotlib import pyplot as plt\n",
    "plt.plot(L,'r') # plotting t,a separately \n",
    "plt.plot(elmr.predict(x_test),'b') # plotting t,b separately \n",
    "plt.plot(U,'g') # plotting t,c separately \n",
    "plt.xlabel(\"Time (Hours)\")\n",
    "plt.ylabel(\"Wind Speed (KM/Hr)\")\n",
    "plt.show()\n"
   ]
  },
  {
   "cell_type": "code",
   "execution_count": null,
   "metadata": {
    "collapsed": true
   },
   "outputs": [],
   "source": []
  }
 ],
 "metadata": {
  "anaconda-cloud": {},
  "kernelspec": {
   "display_name": "Python [Root]",
   "language": "python",
   "name": "Python [Root]"
  },
  "language_info": {
   "codemirror_mode": {
    "name": "ipython",
    "version": 3
   },
   "file_extension": ".py",
   "mimetype": "text/x-python",
   "name": "python",
   "nbconvert_exporter": "python",
   "pygments_lexer": "ipython3",
   "version": "3.5.2"
  }
 },
 "nbformat": 4,
 "nbformat_minor": 0
}
